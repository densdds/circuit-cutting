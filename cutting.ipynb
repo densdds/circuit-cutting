{
 "cells": [
  {
   "cell_type": "code",
   "execution_count": 238,
   "metadata": {},
   "outputs": [],
   "source": [
    "import numpy as np \n",
    "import scipy as sp\n",
    "from kak import *\n",
    "from conditions import *\n",
    "from qpd import *\n",
    "import cirq "
   ]
  },
  {
   "cell_type": "code",
   "execution_count": 216,
   "metadata": {},
   "outputs": [
    {
     "name": "stdout",
     "output_type": "stream",
     "text": [
      "0: ───H───@───\n",
      "          │\n",
      "1: ───H───X───\n"
     ]
    }
   ],
   "source": [
    "#Cut single two-qubit gate in two qubit circuit\n",
    "qc = cirq.Circuit()\n",
    "qubits = cirq.LineQubit.range(2)\n",
    "qc.append(cirq.H(qubits[0]))\n",
    "qc.append(cirq.CNOT(qubits[0], qubits[1]))\n",
    "print(qc)"
   ]
  },
  {
   "cell_type": "code",
   "execution_count": 217,
   "metadata": {},
   "outputs": [],
   "source": [
    "#decompose it in KAK-like decomposition\n",
    "CX = cirq.unitary(cirq.CNOT)\n",
    "u_cx = kak_like_decomposition(CX)\n",
    "b_0 = cirq.MatrixGate(u_cx.single_qubit_operations_before[0],name='b_0')\n",
    "b_1 = cirq.MatrixGate(u_cx.single_qubit_operations_before[1],name='b_1')\n",
    "a_0 = cirq.MatrixGate(u_cx.single_qubit_operations_after[0], name='a_0')\n",
    "a_1 = cirq.MatrixGate(u_cx.single_qubit_operations_after[1], name='a_1')"
   ]
  },
  {
   "cell_type": "code",
   "execution_count": 221,
   "metadata": {},
   "outputs": [],
   "source": [
    "#initialize ancillas\n",
    "anc_0 = cirq.NamedQubit('anc_0')\n",
    "anc_1 = cirq.NamedQubit('anc_1')\n",
    "#make cirq gates from unitaries\n",
    "b_0 = cirq.MatrixGate(u_cx.single_qubit_operations_before[0],name='b_0')\n",
    "b_1 = cirq.MatrixGate(u_cx.single_qubit_operations_before[1],name='b_1')\n",
    "a_0 = cirq.MatrixGate(u_cx.single_qubit_operations_after[0], name='a_0')\n",
    "a_1 = cirq.MatrixGate(u_cx.single_qubit_operations_after[1], name='a_1')\n",
    "#initialize local gates from interaction part of KAK-like\n",
    "l = [cirq.I, cirq.X, cirq.Y, cirq.Z]\n",
    "#create empty list of subcircuits and weights\n",
    "subcircuits = []\n",
    "weights = []\n",
    "u = u_cx.amplitudes\n",
    "for i in range(len(u)):\n",
    "    u_w = np.abs(u[i]) \n",
    "    phi = np.angle(u[i])\n",
    "    subcirc = qc.copy()\n",
    "    subcirc.batch_remove([(1,cirq.CNOT(qubits[0],qubits[1]))])\n",
    "    subcirc.insert(1, cirq.Moment([b_0(qubits[0]),b_1(qubits[1])]))\n",
    "    subcirc.insert(2, cirq.Moment([l[i](qubits[0]),l[i](qubits[1])]))\n",
    "    subcirc.insert(3, cirq.Moment([a_0(qubits[0]),a_1(qubits[1])]))\n",
    "    weights.append(u_w)\n",
    "    subcircuits.append(subcirc)"
   ]
  },
  {
   "cell_type": "code",
   "execution_count": 223,
   "metadata": {},
   "outputs": [],
   "source": [
    "#initialize ancillas\n",
    "anc_0 = cirq.NamedQubit('anc_0')\n",
    "anc_1 = cirq.NamedQubit('anc_1')\n",
    "#make cirq gates from unitaries\n",
    "b_0 = cirq.MatrixGate(u_cx.single_qubit_operations_before[0],name='b_0')\n",
    "b_1 = cirq.MatrixGate(u_cx.single_qubit_operations_before[1],name='b_1')\n",
    "a_0 = cirq.MatrixGate(u_cx.single_qubit_operations_after[0], name='a_0')\n",
    "a_1 = cirq.MatrixGate(u_cx.single_qubit_operations_after[1], name='a_1')\n",
    "#initialize local gates from interaction part of KAK-like\n",
    "l = [cirq.I, cirq.X, cirq.Y, cirq.Z]\n",
    "#create empty list of subcircuits and weights\n",
    "subcircuits = []\n",
    "weights = []\n",
    "u = u_cx.amplitudes #list of amplitudes in KAK-like decomposition\n",
    "#append simple gates with corresponding weights\n",
    "for i in range(len(u)):\n",
    "    u_w = np.abs(u[i]) \n",
    "    phi = np.angle(u[i])\n",
    "    subcirc = qc.copy()\n",
    "    subcirc.batch_remove([(1,cirq.CNOT(qubits[0],qubits[1]))])\n",
    "    qpd_channel = simple_subcircuit(qubits[0], qubits[1],\n",
    "                                    l[i],\n",
    "                                    a_0, a_1,\n",
    "                                    b_0, b_1)\n",
    "    subcirc.insert(1, qpd_channel)    \n",
    "    weights.append(u_w)\n",
    "    subcircuits.append(subcirc)\n",
    "#append subcircuits with ancilla\n",
    "for i in range(len(u)):\n",
    "    for j in range(i+1, len(u)):\n",
    "        u_w = 2 * np.abs(u[i]) * np.abs(u[j])\n",
    "        phi = np.angle(u[i]) - np.angle(u[j])\n",
    "        subcirc = qc.copy()\n",
    "        subcirc.batch_remove([(1,cirq.CNOT(qubits[0],qubits[1]))])\n",
    "        subcirc.insert(1, ancilla_subcirc(qubits[0], qubits[1], \n",
    "                                          anc_0, anc_1,\n",
    "                                          b_0, b_1,\n",
    "                                          a_0, a_1, \n",
    "                                          phi, \n",
    "                                          local_i=l[i], \n",
    "                                          local_j=l[j]))\n",
    "        weights.append(u_w)\n",
    "        subcircuits.append(subcirc)\n",
    "#append subcircuits with ancillas and phase shift\n",
    "for i in range(len(u)):\n",
    "    for j in range(i+1, len(u)):\n",
    "        u_w = -2 * np.abs(u[i]) * np.abs(u[j])\n",
    "        phi = np.angle(u[i]) - np.angle(u[j]) + np.pi\n",
    "        subcirc = qc.copy()\n",
    "        subcirc.batch_remove([(1,cirq.CNOT(qubits[0],qubits[1]))])\n",
    "        subcirc.insert(1,ancilla_subcirc(qubits[0], qubits[1], \n",
    "                                          anc_0, anc_1, \n",
    "                                          b_0, b_1,\n",
    "                                          a_0, a_1,\n",
    "                                          phi, \n",
    "                                          local_i=l[i], \n",
    "                                          local_j=l[j]))\n",
    "        weights.append(u_w)\n",
    "        subcircuits.append(subcirc)"
   ]
  },
  {
   "cell_type": "code",
   "execution_count": 239,
   "metadata": {},
   "outputs": [],
   "source": [
    "#Pay attention that weight is not correct because sign of some weights\n",
    "#depends on measurement outcome on ancillas and can't be found before simulation\n",
    "#However these weights can be used to construct dustribution to sample from\n",
    "distribution_to_sample = np.abs(weights) / np.linalg.norm(weights,1)"
   ]
  },
  {
   "cell_type": "code",
   "execution_count": 246,
   "metadata": {},
   "outputs": [
    {
     "name": "stdout",
     "output_type": "stream",
     "text": [
      "number of subcircuits = 16\n",
      "0: ───H───b_0───I───a_0───────\n",
      "\n",
      "1: ───H───b_1───I───a_1───────\n",
      "0: ───H───b_0───X───a_0───────\n",
      "\n",
      "1: ───H───b_1───X───a_1───────\n",
      "0: ───H───b_0───Y───a_0───────\n",
      "\n",
      "1: ───H───b_1───Y───a_1───────\n",
      "0: ───H───b_0───Z───a_0───────\n",
      "\n",
      "1: ───H───b_1───Z───a_1───────\n",
      "                                       ┌──┐       ┌──┐\n",
      "0: ───────H───b_0───────────────────────I──────────X─────a_0───────\n",
      "                                        │          │\n",
      "1: ───────H───b_1───────────────────────┼I─────────┼X────a_1───────\n",
      "                                        ││         ││\n",
      "anc_0: ───────R─────H───phi=0.79───X────@┼────X────@┼────H─────────\n",
      "                                         │          │\n",
      "anc_1: ───────R─────H───phi=0.79───X─────@────X─────@────H─────────\n",
      "                                       └──┘       └──┘\n"
     ]
    }
   ],
   "source": [
    "print(\"number of subcircuits =\", len(subcircuits))\n",
    "for _ in subcircuits[0:5]:\n",
    "    print(_)"
   ]
  },
  {
   "cell_type": "markdown",
   "metadata": {},
   "source": [
    "To do list:\n",
    "1. Научиться нормально симулировать серкиты и обрабатывать результаты в cirq.\n",
    " \n",
    "В cirq результаты симуляции содержатся в экземпляре класса ResultDict\n",
    "print(result)  выводит последовательность измеренных кубитов и последовательность соответствующих им исходов измерения\n"
   ]
  },
  {
   "cell_type": "code",
   "execution_count": 247,
   "metadata": {},
   "outputs": [
    {
     "name": "stdout",
     "output_type": "stream",
     "text": [
      "q(0),q(1),anc_1,anc_0=0, 0, 1, 0\n"
     ]
    }
   ],
   "source": [
    "simulator = cirq.Simulator()\n",
    "circuit_to_run = subcircuits[np.random.choice(len(distribution_to_sample), p=distribution_to_sample)].copy()\n",
    "circuit_to_run.append(cirq.measure(circuit_to_run.all_qubits()))\n",
    "result = simulator.run(circuit_to_run)\n",
    "print(result)\n"
   ]
  },
  {
   "cell_type": "markdown",
   "metadata": {},
   "source": [
    "Если исполнить цепочку немколько раз, то для каждого кубита будет выводиться последователньность полученных в каждом \"шоте\" значений"
   ]
  },
  {
   "cell_type": "code",
   "execution_count": 250,
   "metadata": {},
   "outputs": [
    {
     "name": "stdout",
     "output_type": "stream",
     "text": [
      "q(0),q(1),anc_1,anc_0=0110001000, 1101100011, 1101111111, 1110001010\n"
     ]
    }
   ],
   "source": [
    "result = simulator.run(circuit_to_run, repetitions= 10)\n",
    "print(result)"
   ]
  },
  {
   "cell_type": "markdown",
   "metadata": {},
   "source": [
    "Битстринги содержатся в словаре measurements"
   ]
  },
  {
   "cell_type": "code",
   "execution_count": 257,
   "metadata": {},
   "outputs": [
    {
     "data": {
      "text/plain": [
       "{'q(0),q(1),anc_1,anc_0': array([[0, 1, 1, 1],\n",
       "        [1, 1, 1, 1],\n",
       "        [1, 0, 0, 1],\n",
       "        [0, 1, 1, 0],\n",
       "        [0, 1, 1, 0],\n",
       "        [0, 0, 1, 0],\n",
       "        [1, 0, 1, 1],\n",
       "        [0, 0, 1, 0],\n",
       "        [0, 1, 1, 1],\n",
       "        [0, 1, 1, 0]], dtype=uint8)}"
      ]
     },
     "execution_count": 257,
     "metadata": {},
     "output_type": "execute_result"
    }
   ],
   "source": [
    "result.measurements"
   ]
  },
  {
   "cell_type": "code",
   "execution_count": 261,
   "metadata": {},
   "outputs": [
    {
     "name": "stderr",
     "output_type": "stream",
     "text": [
      "c:\\Users\\densd\\circuit-cutting\\.venv\\lib\\site-packages\\cirq\\vis\\state_histogram.py:107: UserWarning: FigureCanvasAgg is non-interactive, and thus cannot be shown\n",
      "  fig.show()\n"
     ]
    },
    {
     "data": {
      "text/plain": [
       "<Axes: title={'center': 'Result State Histogram'}, xlabel='qubit state', ylabel='result count'>"
      ]
     },
     "execution_count": 261,
     "metadata": {},
     "output_type": "execute_result"
    },
    {
     "data": {
      "image/png": "[encoded data removed]",
      "text/plain": [
       "<Figure size 640x480 with 1 Axes>"
      ]
     },
     "metadata": {},
     "output_type": "display_data"
    }
   ],
   "source": [
    "cirq.plot_state_histogram(result)"
   ]
  },
  {
   "cell_type": "markdown",
   "metadata": {},
   "source": [
    "Надо научиться в цикле сэмплить цепочку из распределения вероятностей, исполнять, запоминать битстринг и вес, с которым он будет учитываться при восстановлении распределения вероятностей по битстрингам. То есть надо запоминать вес серкита и выходной битстринг \n",
    "Хранить скорее всего удобно как список кортежей $[(bitstring, weight)]$\n"
   ]
  },
  {
   "cell_type": "markdown",
   "metadata": {},
   "source": [
    "2. Научиться резать полученные подцепочки на две части.\n",
    "Circuit cutting нужен для того, чтобы исполнять большие цепочки на малом числе кубитов. Для этого надо полученные подцепочки в квазивероятностном разложении действительно разделить на две части по линии разреза (индексу кубита в цепочке)\n",
    "\n",
    "Вопрос: как реализовать в коде такую функцию, которая будет на вход принимать цепочку и индекс, по которому цепочка режется, а на выход выдавать две цепочки: цепочку для подсистемы А и соответствующей ей анциллы и цепочку для подсистемы В и соответствующуй ей анциллы.\n",
    "\n",
    "Ниже попытка реализовать такую функцию."
   ]
  },
  {
   "cell_type": "code",
   "execution_count": 262,
   "metadata": {},
   "outputs": [
    {
     "name": "stdout",
     "output_type": "stream",
     "text": [
      "                                        ┌──┐       ┌──┐\n",
      "0: ───────H───b_0────────────────────────I──────────X─────a_0───\n",
      "                                         │          │\n",
      "1: ───────H───b_1────────────────────────┼I─────────┼X────a_1───\n",
      "                                         ││         ││\n",
      "anc_0: ───────R─────H───phi=-0.79───X────@┼────X────@┼────H─────\n",
      "                                          │          │\n",
      "anc_1: ───────R─────H───phi=-0.79───X─────@────X─────@────H─────\n",
      "                                        └──┘       └──┘\n"
     ]
    }
   ],
   "source": [
    "print(circuit_to_run[:-1])"
   ]
  },
  {
   "cell_type": "code",
   "execution_count": 264,
   "metadata": {},
   "outputs": [],
   "source": [
    "def split_circuit(circuit, qubits, ancillas, index):\n",
    "  \"\"\"Splits a circuit into two subcircuits based on a given index.\n",
    "\n",
    "  Args:\n",
    "    circuit: The original circuit to split.\n",
    "    qubits: A list of basic qubits in the circuit.\n",
    "    ancillas: A list of ancilla qubits in the circuit.\n",
    "    index: The index at which to split the circuit.\n",
    "\n",
    "  Returns:\n",
    "    A tuple containing two subcircuits: subcircuit1 and subcircuit2.\n",
    "  \"\"\"\n",
    "\n",
    "  subcircuit1 = cirq.Circuit()\n",
    "  subcircuit2 = cirq.Circuit()\n",
    "\n",
    "  # Assign ancillas to subcircuits\n",
    "  subcircuit1_ancillas = [ancillas[0]]  # anc_0 goes to subcircuit1\n",
    "  subcircuit2_ancillas = [ancillas[1]]  # anc_1 goes to subcircuit2\n",
    "\n",
    "  # Define connected sets\n",
    "  connected_qubits1 = set(qubits[:index]) | set(subcircuit1_ancillas)\n",
    "  connected_qubits2 = set(qubits[index:]) | set(subcircuit2_ancillas)\n",
    "\n",
    "  for moment in circuit:\n",
    "    for operation in moment:\n",
    "      if isinstance(operation, cirq.GateOperation):\n",
    "        # Check if the operation involves any of the connected qubits\n",
    "        if any(q in connected_qubits1 for q in operation.qubits):\n",
    "          subcircuit1.append(operation)\n",
    "        elif any(q in connected_qubits2 for q in operation.qubits):\n",
    "          subcircuit2.append(operation)\n",
    "        else:\n",
    "          # Operation involves qubits from both subcircuits, it's not in either\n",
    "          pass\n",
    "      else:\n",
    "        # Operation is not a GateOperation (e.g., measurement), add it to the appropriate subcircuit\n",
    "        if any(q in connected_qubits1 for q in operation.qubits):\n",
    "          subcircuit1.append(operation)\n",
    "        elif any(q in connected_qubits2 for q in operation.qubits):\n",
    "          subcircuit2.append(operation)\n",
    "\n",
    "  return subcircuit1, subcircuit2"
   ]
  },
  {
   "cell_type": "code",
   "execution_count": 265,
   "metadata": {},
   "outputs": [
    {
     "name": "stdout",
     "output_type": "stream",
     "text": [
      "0: ───────H───b_0───────────────────I───────X───a_0───\n",
      "                                    │       │\n",
      "anc_0: ───R───H─────phi=-0.79───X───@───X───@───H─────\n",
      "\n",
      "\n",
      "1: ───────H───b_1───────────────────I───────X───a_1───\n",
      "                                    │       │\n",
      "anc_1: ───R───H─────phi=-0.79───X───@───X───@───H─────\n"
     ]
    }
   ],
   "source": [
    "c1, c2 = split_circuit(circuit_to_run[:-1], qubits, [anc_0, anc_1], 1)\n",
    "print(c1)\n",
    "print('\\n')\n",
    "print(c2)"
   ]
  },
  {
   "cell_type": "markdown",
   "metadata": {},
   "source": [
    "3. Автоматизировать разрез цепочек для произвольных цепочек с множеством кубитов по паре кубитов, между которыми только одна нелокальная операция.\n",
    "\n",
    "4. Научиться делать разрез цепочек, когда между подсистемами А и В есть несколько двухкубитных гейтов (которые могут в общем случае действовать на разные кубиты этих подсистем)\n",
    "\n",
    "5. Автоматизировать разрез многокубитных цепочек. Реализовать код, который для произвольной цепочки выдаст оптимальный разрез по совокупному гамма-фактору. "
   ]
  }
 ],
 "metadata": {
  "kernelspec": {
   "display_name": ".venv",
   "language": "python",
   "name": "python3"
  },
  "language_info": {
   "codemirror_mode": {
    "name": "ipython",
    "version": 3
   },
   "file_extension": ".py",
   "mimetype": "text/x-python",
   "name": "python",
   "nbconvert_exporter": "python",
   "pygments_lexer": "ipython3",
   "version": "3.9.13"
  }
 },
 "nbformat": 4,
 "nbformat_minor": 2
}
